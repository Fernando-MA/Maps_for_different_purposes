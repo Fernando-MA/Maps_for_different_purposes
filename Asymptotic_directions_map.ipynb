{
 "cells": [
  {
   "cell_type": "markdown",
   "id": "6dfd5597",
   "metadata": {},
   "source": [
    "# Maps of affectation"
   ]
  },
  {
   "cell_type": "markdown",
   "id": "ebd80a52",
   "metadata": {},
   "source": [
    "## Libraries"
   ]
  },
  {
   "cell_type": "code",
   "execution_count": 1,
   "id": "9a79f56c",
   "metadata": {},
   "outputs": [],
   "source": [
    "from mpl_toolkits.basemap import Basemap\n",
    "import matplotlib.pyplot as plt\n",
    "from matplotlib import gridspec\n",
    "import numpy as np\n",
    "import pandas as pd"
   ]
  },
  {
   "cell_type": "markdown",
   "id": "c2f7a053-724f-4b13-9473-43b443e293eb",
   "metadata": {},
   "source": [
    "# WEA FOR MAPAS PERRONES"
   ]
  },
  {
   "cell_type": "code",
   "execution_count": null,
   "id": "30a50da7-3603-4daf-acef-c78095363a5b",
   "metadata": {},
   "outputs": [],
   "source": []
  },
  {
   "cell_type": "code",
   "execution_count": 2,
   "id": "1a964652-a93f-4fc1-ae98-9ab3c3cbcff3",
   "metadata": {},
   "outputs": [],
   "source": [
    "mtwa_12 = pd.read_csv('MTWA_20180504_1200_Kp1_AsympDir_SEP80perc.txt', sep = ',', header = 0, engine = 'python')\n",
    "mtwa_18 = pd.read_csv('MTWA_20180504_1800_Kp1_AsympDir_SEP80perc.txt', sep = ',', header = 0, engine = 'python')\n",
    "nain_12 = pd.read_csv('NAIN_20180504_1200_Kp1_AsympDir_SEP80perc.txt', sep = ',', header = 0, engine = 'python')\n",
    "nain_18 = pd.read_csv('NAIN_20180504_1800_Kp1_AsympDir_SEP80perc.txt', sep = ',', header = 0, engine = 'python')\n",
    "\n",
    "# ad_data.info()\n",
    "# 0 forbidden\n",
    "# 1 allowed in magnetopause\n",
    "# 2 undetermined\n",
    "# 3 calculation with wrong step size\n",
    "# 4 allowed in magnetotail\n",
    "# gse (geocentered solar ecliptic) centered at Earth's center,x axis sunwards and z axis perpendicular to ecliptic\n",
    "# gsm (geocentric solar magnetosferic) x axis sunwards and z axis along geomagnetic dipole projection\n",
    "# geo x lies on greenwich and z is north pole\n",
    "# tag neutron monitor (Mt.Washington or Nane)\n",
    "# rig particle rigidity\n",
    "# zen zenith angle\n",
    "# azi azimuthal angle\n",
    "\n",
    "mtwa_12 = mtwa_12[(mtwa_12.infi == 1) | (mtwa_12.infi == 4)].reset_index().filter(['algeo', 'apgeo', 'rig', 'infi'])\n",
    "mtwa_12['long_perrona'] = mtwa_12['apgeo'].apply(lambda long_culera: long_culera-360 if long_culera > 180 else long_culera)\n",
    "\n",
    "mtwa_18 = mtwa_18[(mtwa_18.infi == 1) | (mtwa_18.infi == 4)].reset_index().filter(['algeo', 'apgeo', 'rig', 'infi'])\n",
    "mtwa_18['long_perrona'] = mtwa_18['apgeo'].apply(lambda long_culera: long_culera-360 if long_culera > 180 else long_culera)\n",
    "\n",
    "nain_12 = nain_12[(nain_12.infi == 1) | (nain_12.infi == 4)].reset_index().filter(['algeo', 'apgeo', 'rig', 'infi'])\n",
    "nain_12['long_perrona'] = nain_12['apgeo'].apply(lambda long_culera: long_culera-360 if long_culera > 180 else long_culera)\n",
    "\n",
    "nain_18 = nain_18[(nain_18.infi == 1) | (nain_18.infi == 4)].reset_index().filter(['algeo', 'apgeo', 'rig', 'infi'])\n",
    "nain_18['long_perrona'] = nain_18['apgeo'].apply(lambda long_culera: long_culera-360 if long_culera > 180 else long_culera)"
   ]
  },
  {
   "cell_type": "code",
   "execution_count": null,
   "id": "46e1628c-6d2c-4166-a4f6-f94a1a2d4442",
   "metadata": {},
   "outputs": [],
   "source": []
  },
  {
   "cell_type": "code",
   "execution_count": null,
   "id": "e72a4c0c-063e-4bad-867c-b32c74342ab6",
   "metadata": {},
   "outputs": [],
   "source": []
  },
  {
   "cell_type": "code",
   "execution_count": null,
   "id": "c5cf1aa8",
   "metadata": {},
   "outputs": [],
   "source": [
    "#  Special thx to:\n",
    "# https://stackoverflow.com/questions/50939821/aligning-data-contourf-on-basemap\n",
    "\n",
    "lowlon = -180 # lower corner longitude\n",
    "lowlat = -90 # lower corner latitude\n",
    "upplon = 180 # upper corner longitude\n",
    "upplat = 90 # upper corner latitude\n",
    "\n",
    "# data for z (2D array)\n",
    "h2o_north = np.linspace(1, 65, num=90)\n",
    "h2o_south = np.flipud(h2o_north)\n",
    "h2o = np.append(h2o_north, h2o_south)\n",
    "data = np.transpose(np.tile(h2o, (len(h2o_north), 1))) # tile repeats the array\n",
    "\n",
    "# create figure and axes instances\n",
    "fig = plt.figure(figsize=(18, 11))\n",
    "ax = fig.add_subplot()\n",
    "\n",
    "# create basemap instance\n",
    "m = Basemap(llcrnrlon = lowlon,\n",
    "            llcrnrlat = lowlat,\n",
    "            urcrnrlon = upplon,\n",
    "            urcrnrlat = upplat,\n",
    "            projection = 'mill', # Lambert conformal projection\n",
    "            lat_0 = 0, # center lat\n",
    "            lon_0 = 0, # center lon\n",
    "            ax = ax\n",
    "           )\n",
    "\n",
    "# create meshgrid covering the whole globe with ...\n",
    "# conforming dimensions of the `data`\n",
    "lat = np.linspace(lowlat, upplat, data.shape[0]) # where to plot data\n",
    "lon = np.linspace(lowlon, upplon, data.shape[1]) # where to plot data\n",
    "xs, ys = np.meshgrid(lon, lat)   # basic mesh in lon, lat (degrees)\n",
    "x, y = m(xs, ys)                 # convert (lon,lat) to map (x,y)\n",
    "\n",
    "m.shadedrelief()\n",
    "m.drawparallels(np.arange(-90, 90, 30), labels = [1, 0, 0, 1],\n",
    "                  fontsize=20, fontname = 'C059', color = 'k', linewidth = 1)\n",
    "m.drawmeridians(np.arange(m.lonmin, m.lonmax + 30, 60),\n",
    "                  labels=[1, 0, 0, 1], fontsize=20, fontname = 'C059',\n",
    "                  color = 'k', linewidth = 1)\n",
    "\n",
    "x1, y1 = m(mtwa_12.long_perrona, mtwa_12.algeo)\n",
    "scatterplot1 = m.scatter(x1, y1, c = mtwa_12.rig, marker = 'o',\n",
    "                        cmap = 'cool', s=15, zorder = 100, label = 'MTWA 12:00')\n",
    "\n",
    "x2, y2 = m(mtwa_18.long_perrona, mtwa_18.algeo)\n",
    "scatterplot2 = m.scatter(x2, y2, c = mtwa_18.rig, marker = 's',\n",
    "                        cmap = 'cool', s=15, zorder = 100, label = 'MTWA 18:00')\n",
    "\n",
    "x3, y3 = m(nain_12.long_perrona, nain_12.algeo)\n",
    "scatterplot3 = m.scatter(x3, y3, c = nain_12.rig, marker = 'P',\n",
    "                        cmap = 'magma_r', s=15, zorder = 100, label = 'NAIN 12:00')\n",
    "\n",
    "x4, y4 = m(nain_18.long_perrona, nain_18.algeo)\n",
    "scatterplot4 = m.scatter(x4, y4, c = nain_18.rig, marker = 'D',\n",
    "                        cmap = 'magma_r', s=15, zorder = 100, label = 'NAIN 18:00')\n",
    "plt.legend()\n",
    "ax.tick_params(axis = 'both', which = 'both', direction = 'in', \n",
    "            labelsize = 23, color = 'k', width = 1.1, length = 10)\n",
    "\n",
    "cbar1 = m.colorbar(scatterplot1, location='right', pad=\"1%\")\n",
    "cbar1.set_label('Magnetic rigidity [GV]', fontsize=20,\n",
    "          fontweight='bold', color=\"black\", fontname = 'C059')\n",
    "\n",
    "cbar4 = m.colorbar(scatterplot4, location='bottom', pad=\"10%\")\n",
    "cbar4.set_label('Magnetic rigidity [GV]', fontsize=20,\n",
    "          fontweight='bold', color=\"black\", fontname = 'C059')\n",
    "\n",
    "plt.show()"
   ]
  },
  {
   "cell_type": "code",
   "execution_count": 51,
   "id": "8fc2bca2",
   "metadata": {},
   "outputs": [
    {
     "data": {
      "text/plain": [
       "(180, 90)"
      ]
     },
     "execution_count": 51,
     "metadata": {},
     "output_type": "execute_result"
    }
   ],
   "source": [
    "data.shape"
   ]
  },
  {
   "cell_type": "code",
   "execution_count": null,
   "id": "c62e7283",
   "metadata": {},
   "outputs": [],
   "source": []
  }
 ],
 "metadata": {
  "kernelspec": {
   "display_name": "Python 3 (ipykernel)",
   "language": "python",
   "name": "python3"
  },
  "language_info": {
   "codemirror_mode": {
    "name": "ipython",
    "version": 3
   },
   "file_extension": ".py",
   "mimetype": "text/x-python",
   "name": "python",
   "nbconvert_exporter": "python",
   "pygments_lexer": "ipython3",
   "version": "3.12.10"
  }
 },
 "nbformat": 4,
 "nbformat_minor": 5
}
